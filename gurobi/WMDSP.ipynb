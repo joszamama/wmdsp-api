{
 "cells": [
  {
   "attachments": {},
   "cell_type": "markdown",
   "metadata": {},
   "source": [
    "# WMDSP - Exact algorithm for finding the minimum dominating set in weigthed graphs"
   ]
  },
  {
   "attachments": {},
   "cell_type": "markdown",
   "metadata": {},
   "source": [
    "$$\n",
    "\\begin{aligned}\n",
    "& \\underset{x}{\\text{minimize}}\n",
    "& & \\sum_{i=1}^{n} x_i \\ \\\\\n",
    "& \\text{subject to}\n",
    "&& \\sum_{j=1}^{n} weigths_{i,j} \\cdot x_j \\geq k \\cdot (1 - x_i), \\quad i=1,\\ldots,n \\ \\\\\n",
    "& & & x_i \\in \\{0,1\\}, \\quad i=1,\\ldots,n\n",
    "\\end{aligned}\n",
    "% & & \\sum_{j=1}^{n} AdjMatrix_{i,j} \\cdot x_j > 0, \\quad i=1,\\ldots,n \\ \\\\\n",
    "\n",
    "$$"
   ]
  },
  {
   "attachments": {},
   "cell_type": "markdown",
   "metadata": {},
   "source": [
    "Given an undirected graph G = (V, E) with vertex set V and edge set E, where each edge e in E has a weight w(e), the Dominating Set with Weighted Edges problem is to find a subset S of V such that:\n",
    "\n",
    "1. For every vertex v in V, either v is in S or v has a neighbor in S. In other words, every vertex in V is either in S or adjacent to a vertex in S. This property is known as domination.\n",
    "\n",
    "2. The sum of the weights of the edges in E between vertices in V that are not in S and vertices in S is at least k. In other words, the sum of w(e) over all edges e between vertices in V\\S and vertices in S is k. This property takes into account the weights of the edges between V\\ S and S.\n",
    "\n",
    "The goal of the Dominating Set with Weighted Edges problem is to find the smallest subset S of V that satisfies the above properties."
   ]
  },
  {
   "attachments": {},
   "cell_type": "markdown",
   "metadata": {},
   "source": [
    "# Importación de librerias"
   ]
  },
  {
   "cell_type": "code",
   "execution_count": 20,
   "metadata": {},
   "outputs": [],
   "source": [
    "import os\n",
    "import gurobipy as gp"
   ]
  },
  {
   "attachments": {},
   "cell_type": "markdown",
   "metadata": {},
   "source": [
    "# Definición de funciones"
   ]
  },
  {
   "cell_type": "code",
   "execution_count": 21,
   "metadata": {},
   "outputs": [],
   "source": [
    "def create_graph(folder, filename):\n",
    "    with open('../src/main/resources/graphs/'+ folder + '/' + filename) as f:\n",
    "        lines = f.readlines()\n",
    "    \n",
    "    weights = [[float(x) for x in line.split()] for line in lines]\n",
    "    n = len(weights)\n",
    "\n",
    "    # Construct the edge set and weight dictionary\n",
    "    V = list(range(0, n))\n",
    "    E = {}\n",
    "    W = {}\n",
    "    for i in range(n):\n",
    "        for j in range(i, n):\n",
    "            if weights[i][j] > 0:\n",
    "                E.setdefault(i, []).append(j)\n",
    "                E.setdefault(j, []).append(i)\n",
    "                W[i, j] = weights[i][j]\n",
    "                W[j, i] = weights[i][j]\n",
    "\n",
    "    return V, E, W"
   ]
  },
  {
   "cell_type": "code",
   "execution_count": 22,
   "metadata": {},
   "outputs": [],
   "source": [
    "def find_dominating_set(V, E, W, K, time_limit):\n",
    "    m = gp.Model(\"Weigthed MDSP\")\n",
    "\n",
    "    # Create variables\n",
    "    x = m.addVars(V, vtype=gp.GRB.BINARY, name='x')\n",
    "\n",
    "    # Set objective\n",
    "    m.setObjective(x.sum(), sense=gp.GRB.MINIMIZE)\n",
    "\n",
    "    # Add constraints\n",
    "    for u in V:\n",
    "        m.addConstr(gp.quicksum(x[v]*W[u,v] for v in E[u]) >= K*(1 - x[u]))\n",
    "\n",
    "    # disable gurobi output\n",
    "    m.setParam('OutputFlag', 0)\n",
    "    \n",
    "    # Set time limit\n",
    "    m.setParam('TimeLimit', time_limit)\n",
    "    \n",
    "    # Optimize model\n",
    "    m.optimize()\n",
    "    \n",
    "    solution = []\n",
    "    for v in V:\n",
    "        if x[v].x > 0.5:\n",
    "            solution.append(v)\n",
    "\n",
    "    return solution, m.Runtime, m.MIPGap, m.status == gp.GRB.OPTIMAL, "
   ]
  },
  {
   "cell_type": "code",
   "execution_count": 23,
   "metadata": {},
   "outputs": [],
   "source": [
    "def execute_wmdsp(folder, graph, K, time_limit):\n",
    "    V, E, W = create_graph(folder, graph)\n",
    "    solution, runtime, gap, optimal = find_dominating_set(V, E, W, K, time_limit)\n",
    "    result = [solution, gap, round(runtime, 2), optimal]\n",
    "    return result"
   ]
  },
  {
   "cell_type": "code",
   "execution_count": 24,
   "metadata": {},
   "outputs": [],
   "source": [
    "def load_graphs(folder):\n",
    "    graphs = []\n",
    "    for filename in os.listdir('../src/main/resources/graphs/' + folder + '/'):\n",
    "        if filename.endswith('.txt'):\n",
    "            graphs.append(filename)\n",
    "    return graphs"
   ]
  },
  {
   "attachments": {},
   "cell_type": "markdown",
   "metadata": {},
   "source": [
    "# Definición de parámetros y ejecución"
   ]
  },
  {
   "cell_type": "code",
   "execution_count": 25,
   "metadata": {},
   "outputs": [
    {
     "name": "stdout",
     "output_type": "stream",
     "text": [
      "For graph w_rnd_graph_500_20_2.txt and K = 0.1 the solution is [65, 121, 202, 203, 219, 302, 343, 351, 370, 413, 465, 491] with size 12 and gap 0.4166666666666667 in 1800.0 seconds.\n",
      "For graph w_rnd_graph_500_20_2.txt and K = 0.25 the solution is [95, 125, 183, 185, 194, 220, 243, 269, 334, 363, 394, 408, 458] with size 13 and gap 0.38461538461538464 in 1800.01 seconds.\n",
      "For graph w_rnd_graph_500_20_2.txt and K = 0.5 the solution is [89, 104, 125, 184, 201, 203, 229, 239, 257, 289, 340, 360, 361, 375, 381, 432] with size 16 and gap 0.4375 in 1800.01 seconds.\n",
      "For graph w_rnd_graph_500_20_2.txt and K = 0.75 the solution is [51, 73, 92, 104, 120, 123, 157, 197, 201, 209, 308, 355, 375, 408, 413, 432, 470, 471, 477, 478] with size 20 and gap 0.5 in 1800.01 seconds.\n",
      "For graph w_rnd_graph_500_20_2.txt and K = 1 the solution is [2, 9, 22, 38, 60, 74, 86, 111, 139, 151, 182, 183, 184, 239, 258, 264, 339, 343, 385, 418, 425, 490] with size 22 and gap 0.45454545454545453 in 1800.01 seconds.\n",
      "For graph w_rnd_graph_1000_20_1.txt and K = 0.1 the solution is [1, 84, 156, 221, 368, 532, 556, 619, 620, 691, 762, 912, 941, 952] with size 14 and gap 0.5714285714285714 in 1800.01 seconds.\n",
      "For graph w_rnd_graph_1000_20_1.txt and K = 0.25 the solution is [11, 62, 84, 274, 353, 380, 398, 459, 460, 521, 556, 700, 862, 886, 912, 931] with size 16 and gap 0.5625 in 1800.01 seconds.\n",
      "For graph w_rnd_graph_1000_20_1.txt and K = 0.5 the solution is [130, 156, 213, 221, 224, 295, 356, 400, 431, 489, 521, 552, 619, 647, 825, 872, 878, 883] with size 18 and gap 0.5555555555555556 in 1800.02 seconds.\n",
      "For graph w_rnd_graph_1000_20_1.txt and K = 0.75 the solution is [40, 51, 62, 130, 156, 221, 233, 234, 258, 399, 442, 531, 567, 580, 594, 611, 704, 808, 877, 895, 941, 964, 999] with size 23 and gap 0.6086956521739131 in 1800.02 seconds.\n",
      "For graph w_rnd_graph_1000_20_1.txt and K = 1 the solution is [7, 22, 28, 47, 112, 157, 189, 191, 223, 225, 326, 345, 357, 435, 458, 521, 573, 620, 731, 781, 796, 893, 912, 929, 975, 990] with size 26 and gap 0.6153846153846154 in 1800.02 seconds.\n",
      "For graph w_rnd_graph_4000_20_1.txt and K = 0.1 the solution is [325, 362, 619, 846, 874, 1021, 1168, 1272, 1685, 1732, 1946, 2277, 2361, 2388, 2482, 2796, 2850, 3082, 3342, 3791, 3913, 3975] with size 22 and gap 0.7272727272727273 in 1800.1 seconds.\n",
      "For graph w_rnd_graph_4000_20_1.txt and K = 0.25 the solution is [233, 345, 846, 1144, 1332, 1368, 1489, 1573, 1734, 1757, 1778, 2040, 2094, 2108, 2533, 2652, 2727, 3142, 3284, 3329, 3370, 3584, 3660, 3833] with size 24 and gap 0.75 in 1800.13 seconds.\n",
      "For graph w_rnd_graph_4000_20_1.txt and K = 0.5 the solution is [53, 457, 462, 472, 556, 1089, 1134, 1551, 1560, 1900, 2025, 2042, 2068, 2086, 2311, 2566, 2672, 2681, 2744, 2783, 2796, 2942, 3003, 3025, 3602, 3975, 3985] with size 27 and gap 0.7407407407407407 in 1801.25 seconds.\n",
      "For graph w_rnd_graph_4000_20_1.txt and K = 0.75 the solution is [35, 79, 143, 179, 300, 384, 420, 601, 756, 846, 1209, 1300, 1359, 1445, 1785, 1930, 2020, 2050, 2086, 2283, 2290, 2318, 2327, 2371, 2727, 2783, 2870, 3409, 3468, 3709, 3776] with size 31 and gap 0.7419354838709677 in 1800.03 seconds.\n",
      "For graph w_rnd_graph_4000_20_1.txt and K = 1 the solution is [68, 81, 400, 492, 507, 623, 757, 989, 1211, 1472, 1519, 1595, 1676, 1722, 1729, 1762, 2108, 2169, 2345, 2435, 2681, 2759, 2868, 3025, 3120, 3128, 3135, 3140, 3274, 3409, 3625, 3637, 3766, 3790] with size 34 and gap 0.7058823529411765 in 1800.57 seconds.\n",
      "For graph w_rnd_graph_2000_20_1.txt and K = 0.1 the solution is [86, 136, 180, 184, 286, 334, 356, 575, 577, 884, 948, 959, 1342, 1430, 1830, 1838, 1983] with size 17 and gap 0.6470588235294118 in 1800.09 seconds.\n",
      "For graph w_rnd_graph_2000_20_1.txt and K = 0.25 the solution is [9, 48, 184, 681, 771, 787, 914, 948, 1142, 1151, 1208, 1442, 1540, 1680, 1681, 1766, 1849, 1862, 1971, 1995] with size 20 and gap 0.7 in 1800.09 seconds.\n",
      "For graph w_rnd_graph_2000_20_1.txt and K = 0.5 the solution is [9, 10, 81, 185, 259, 280, 300, 314, 344, 424, 548, 834, 856, 920, 933, 987, 1063, 1084, 1115, 1250, 1433, 1729] with size 22 and gap 0.6818181818181818 in 1800.05 seconds.\n",
      "For graph w_rnd_graph_2000_20_1.txt and K = 0.75 the solution is [7, 9, 10, 48, 73, 184, 217, 291, 300, 332, 355, 370, 420, 959, 963, 1031, 1051, 1303, 1430, 1523, 1556, 1566, 1621, 1657, 1799, 1944] with size 26 and gap 0.6923076923076923 in 1800.05 seconds.\n",
      "For graph w_rnd_graph_2000_20_1.txt and K = 1 the solution is [10, 122, 128, 259, 291, 300, 332, 348, 454, 548, 567, 589, 692, 736, 749, 785, 910, 1108, 1115, 1156, 1261, 1341, 1350, 1433, 1523, 1547, 1815, 1908, 1911] with size 29 and gap 0.6551724137931034 in 1800.06 seconds.\n",
      "For graph w_rnd_graph_2000_50_1.txt and K = 0.1 the solution is [71, 500, 983, 1309, 1318, 1527, 1978] with size 7 and gap 0.5714285714285714 in 1800.06 seconds.\n",
      "For graph w_rnd_graph_2000_50_1.txt and K = 0.25 the solution is [371, 398, 457, 626, 1115, 1583, 1806, 1843] with size 8 and gap 0.625 in 1800.06 seconds.\n",
      "For graph w_rnd_graph_2000_50_1.txt and K = 0.5 the solution is [89, 98, 276, 327, 661, 843, 873, 986, 1475, 1525] with size 10 and gap 0.7 in 1800.05 seconds.\n",
      "For graph w_rnd_graph_2000_50_1.txt and K = 0.75 the solution is [123, 160, 705, 735, 743, 1400, 1490, 1637, 1765, 1784, 1933] with size 11 and gap 0.6363636363636364 in 1800.11 seconds.\n",
      "For graph w_rnd_graph_2000_50_1.txt and K = 1 the solution is [449, 507, 550, 689, 760, 821, 1068, 1151, 1190, 1266, 1271, 1623, 1907] with size 13 and gap 0.6923076923076923 in 1800.09 seconds.\n",
      "For graph w_rnd_graph_3000_50_1.txt and K = 0.1 the solution is [84, 394, 1081, 1150, 1340, 1381, 2174, 2175] with size 8 and gap 0.625 in 1800.02 seconds.\n",
      "For graph w_rnd_graph_3000_50_1.txt and K = 0.25 the solution is [166, 1159, 1279, 2415, 2626, 2738, 2752, 2807, 2947] with size 9 and gap 0.6666666666666666 in 1800.23 seconds.\n",
      "For graph w_rnd_graph_3000_50_1.txt and K = 0.5 the solution is [88, 195, 407, 546, 557, 688, 731, 893, 1061, 2916, 2942] with size 11 and gap 0.7272727272727273 in 1800.01 seconds.\n",
      "For graph w_rnd_graph_3000_50_1.txt and K = 0.75 the solution is [125, 236, 280, 412, 463, 937, 1352, 1773, 2338, 2506, 2701, 2939] with size 12 and gap 0.6666666666666666 in 1800.09 seconds.\n",
      "For graph w_rnd_graph_3000_50_1.txt and K = 1 the solution is [356, 660, 844, 1009, 1125, 1394, 1481, 1750, 1906, 1972, 2291, 2603, 2716, 2791] with size 14 and gap 0.7142857142857143 in 1800.01 seconds.\n",
      "For graph w_rnd_graph_1000_50_1.txt and K = 0.1 the solution is [179, 244, 294, 362, 510, 761] with size 6 and gap 0.5 in 1800.28 seconds.\n",
      "For graph w_rnd_graph_1000_50_1.txt and K = 0.25 the solution is [2, 404, 550, 624, 687, 752, 863] with size 7 and gap 0.5714285714285714 in 1800.02 seconds.\n",
      "For graph w_rnd_graph_1000_50_1.txt and K = 0.5 the solution is [63, 148, 322, 425, 439, 550, 858, 980] with size 8 and gap 0.625 in 1800.04 seconds.\n",
      "For graph w_rnd_graph_1000_50_1.txt and K = 0.75 the solution is [1, 111, 246, 406, 496, 597, 643, 649, 673, 687] with size 10 and gap 0.6 in 1800.04 seconds.\n",
      "For graph w_rnd_graph_1000_50_1.txt and K = 1 the solution is [6, 91, 148, 169, 211, 334, 462, 558, 610, 913, 979] with size 11 and gap 0.6363636363636364 in 1800.11 seconds.\n",
      "For graph w_rnd_graph_3000_20_1.txt and K = 0.1 the solution is [9, 41, 285, 450, 479, 572, 668, 802, 859, 1100, 1166, 1232, 1591, 1649, 1937, 2172, 2310, 2604, 2630] with size 19 and gap 0.6842105263157895 in 1800.12 seconds.\n",
      "For graph w_rnd_graph_3000_20_1.txt and K = 0.25 the solution is [35, 105, 572, 694, 709, 802, 1006, 1166, 1276, 1301, 1376, 1530, 1536, 1537, 1597, 1635, 1715, 2271, 2281, 2359, 2832, 2838] with size 22 and gap 0.7272727272727273 in 1800.17 seconds.\n",
      "For graph w_rnd_graph_3000_20_1.txt and K = 0.5 the solution is [64, 125, 198, 337, 438, 486, 664, 831, 1369, 1624, 1635, 1893, 2124, 2239, 2280, 2444, 2458, 2774, 2788, 2801, 2813, 2822, 2851, 2938, 2947] with size 25 and gap 0.72 in 1800.1 seconds.\n",
      "For graph w_rnd_graph_3000_20_1.txt and K = 0.75 the solution is [77, 205, 337, 440, 479, 787, 818, 831, 984, 1006, 1084, 1095, 1482, 1603, 1636, 1666, 1739, 1790, 1856, 2080, 2337, 2359, 2444, 2454, 2519, 2597, 2598, 2758, 2859, 2988] with size 30 and gap 0.7333333333333333 in 1800.04 seconds.\n",
      "For graph w_rnd_graph_3000_20_1.txt and K = 1 the solution is [74, 198, 254, 301, 397, 514, 571, 754, 823, 848, 863, 1006, 1023, 1197, 1295, 1346, 1369, 1378, 1406, 1434, 1643, 1790, 1823, 1872, 1886, 1889, 1983, 2022, 2770, 2784, 2794, 2826] with size 32 and gap 0.6875 in 1800.05 seconds.\n",
      "For graph w_rnd_graph_4000_50_1.txt and K = 0.1 the solution is [624, 1018, 1143, 1867, 1925, 2129, 2691, 3238] with size 8 and gap 0.75 in 1800.53 seconds.\n",
      "For graph w_rnd_graph_4000_50_1.txt and K = 0.25 the solution is [1124, 1432, 2323, 2461, 2743, 2822, 3027, 3100, 3102, 3209] with size 10 and gap 0.7 in 1800.04 seconds.\n",
      "For graph w_rnd_graph_4000_50_1.txt and K = 0.5 the solution is [324, 623, 808, 1140, 1563, 1564, 2086, 2264, 2926, 3158, 3254] with size 11 and gap 0.7272727272727273 in 1801.3 seconds.\n",
      "For graph w_rnd_graph_4000_50_1.txt and K = 0.75 the solution is [763, 813, 1063, 1346, 1797, 2047, 2264, 2717, 3156, 3285, 3354, 3418, 3460] with size 13 and gap 0.7692307692307693 in 1801.59 seconds.\n",
      "For graph w_rnd_graph_4000_50_1.txt and K = 1 the solution is [336, 373, 648, 649, 1047, 1800, 1843, 1844, 1868, 1922, 2925, 3116, 3161, 3671] with size 14 and gap 0.7142857142857143 in 1801.37 seconds.\n",
      "For graph w_rnd_graph_500_50_2.txt and K = 0.1 the solution is [7, 10, 294, 377, 423] with size 5 and gap 0.0 in 1766.63 seconds.\n",
      "For graph w_rnd_graph_500_50_2.txt and K = 0.25 the solution is [22, 70, 258, 357, 437, 441] with size 6 and gap 0.3333333333333333 in 1800.01 seconds.\n",
      "For graph w_rnd_graph_500_50_2.txt and K = 0.5 the solution is [102, 174, 181, 190, 411, 415, 428] with size 7 and gap 0.42857142857142855 in 1800.01 seconds.\n",
      "For graph w_rnd_graph_500_50_2.txt and K = 0.75 the solution is [79, 86, 136, 150, 258, 387, 403, 420, 465] with size 9 and gap 0.4444444444444444 in 1800.01 seconds.\n",
      "For graph w_rnd_graph_500_50_2.txt and K = 1 the solution is [19, 79, 98, 179, 238, 262, 267, 411, 489] with size 9 and gap 0.4444444444444444 in 1800.01 seconds.\n"
     ]
    }
   ],
   "source": [
    "# set the folder with the graphs\n",
    "folder = 'icebox'\n",
    "\n",
    "# load the graphs \n",
    "graphs = load_graphs(folder)\n",
    "\n",
    "# set the time limit for each graph in seconds (1800 = 30 minutes)\n",
    "time_limit = 1800\n",
    "\n",
    "# set the values of K\n",
    "K = [0.1, 0.25, 0.5, 0.75, 1]\n",
    "\n",
    "with open('../src/main/resources/results/'+ folder + '-gurobi.csv', 'w') as f:\n",
    "    f.write('graph;K;solution;size;gap;runtime(s);optimal?\\n')\n",
    "    for graph in graphs:\n",
    "            for k in K:\n",
    "                result = execute_wmdsp(folder, graph, k, time_limit)\n",
    "                f.write(graph + ';' + str(k) + ';' + str(result[0]) + ';' + str(len(result[0])) + ';' + str(result[1]) + ';' + str(result[2]) + ';' + str(result[3]) + '\\n')\n",
    "                print(\"For graph \" + graph + \" and K = \" + str(k) + \" the solution is \" + str(result[0]) + \" with size \" + str(len(result[0])) + \" and gap \" + str(result[1]) + \" in \" + str(result[2]) + \" seconds.\"),"
   ]
  }
 ],
 "metadata": {
  "kernelspec": {
   "display_name": "base",
   "language": "python",
   "name": "python3"
  },
  "language_info": {
   "codemirror_mode": {
    "name": "ipython",
    "version": 3
   },
   "file_extension": ".py",
   "mimetype": "text/x-python",
   "name": "python",
   "nbconvert_exporter": "python",
   "pygments_lexer": "ipython3",
   "version": "3.8.10"
  },
  "orig_nbformat": 4
 },
 "nbformat": 4,
 "nbformat_minor": 2
}
