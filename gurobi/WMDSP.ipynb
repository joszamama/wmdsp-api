{
 "cells": [
  {
   "attachments": {},
   "cell_type": "markdown",
   "metadata": {},
   "source": [
    "# WMDSP - Exact algorithm for finding the minimum dominating set in weigthed graphs"
   ]
  },
  {
   "attachments": {},
   "cell_type": "markdown",
   "metadata": {},
   "source": [
    "$$\n",
    "\\begin{aligned}\n",
    "& \\underset{x}{\\text{minimize}}\n",
    "& & \\sum_{i=1}^{n} x_i \\ \\\\\n",
    "& \\text{subject to}\n",
    "&& \\sum_{j=1}^{n} weigths_{i,j} \\cdot x_j \\geq k \\cdot (1 - x_i), \\quad i=1,\\ldots,n \\ \\\\\n",
    "& & & x_i \\in \\{0,1\\}, \\quad i=1,\\ldots,n\n",
    "\\end{aligned}\n",
    "% & & \\sum_{j=1}^{n} AdjMatrix_{i,j} \\cdot x_j > 0, \\quad i=1,\\ldots,n \\ \\\\\n",
    "\n",
    "$$"
   ]
  },
  {
   "attachments": {},
   "cell_type": "markdown",
   "metadata": {},
   "source": [
    "Given an undirected graph G = (V, E) with vertex set V and edge set E, where each edge e in E has a weight w(e), the Dominating Set with Weighted Edges problem is to find a subset S of V such that:\n",
    "\n",
    "1. For every vertex v in V, either v is in S or v has a neighbor in S. In other words, every vertex in V is either in S or adjacent to a vertex in S. This property is known as domination.\n",
    "\n",
    "2. The sum of the weights of the edges in E between vertices in V that are not in S and vertices in S is at least k. In other words, the sum of w(e) over all edges e between vertices in V\\S and vertices in S is k. This property takes into account the weights of the edges between V\\ S and S.\n",
    "\n",
    "The goal of the Dominating Set with Weighted Edges problem is to find the smallest subset S of V that satisfies the above properties."
   ]
  },
  {
   "attachments": {},
   "cell_type": "markdown",
   "metadata": {},
   "source": [
    "# Importación de librerias"
   ]
  },
  {
   "cell_type": "code",
   "execution_count": 1,
   "metadata": {},
   "outputs": [],
   "source": [
    "import os\n",
    "import gurobipy as gp"
   ]
  },
  {
   "attachments": {},
   "cell_type": "markdown",
   "metadata": {},
   "source": [
    "# Definición de funciones"
   ]
  },
  {
   "cell_type": "code",
   "execution_count": 2,
   "metadata": {},
   "outputs": [],
   "source": [
    "def create_graph(folder, filename):\n",
    "    with open('../src/main/resources/graphs/'+ folder + '/' + filename) as f:\n",
    "        lines = f.readlines()\n",
    "    \n",
    "    weights = [[float(x) for x in line.split()] for line in lines]\n",
    "    n = len(weights)\n",
    "\n",
    "    # Construct the edge set and weight dictionary\n",
    "    V = list(range(0, n))\n",
    "    E = {}\n",
    "    W = {}\n",
    "    for i in range(n):\n",
    "        for j in range(i, n):\n",
    "            if weights[i][j] > 0:\n",
    "                E.setdefault(i, []).append(j)\n",
    "                E.setdefault(j, []).append(i)\n",
    "                W[i, j] = weights[i][j]\n",
    "                W[j, i] = weights[i][j]\n",
    "\n",
    "    return V, E, W"
   ]
  },
  {
   "cell_type": "code",
   "execution_count": 3,
   "metadata": {},
   "outputs": [],
   "source": [
    "def find_dominating_set(V, E, W, K, time_limit):\n",
    "    m = gp.Model(\"Weigthed MDSP\")\n",
    "\n",
    "    # Create variables\n",
    "    x = m.addVars(V, vtype=gp.GRB.BINARY, name='x')\n",
    "\n",
    "    # Set objective\n",
    "    m.setObjective(x.sum(), sense=gp.GRB.MINIMIZE)\n",
    "\n",
    "    # Add constraints\n",
    "    for u in V:\n",
    "        m.addConstr(gp.quicksum(x[v]*W[u,v] for v in E[u]) >= K*(1 - x[u]))\n",
    "\n",
    "    # disable gurobi output\n",
    "    m.setParam('OutputFlag', 0)\n",
    "    \n",
    "    # Set time limit\n",
    "    m.setParam('TimeLimit', time_limit)\n",
    "    \n",
    "    # Optimize model\n",
    "    m.optimize()\n",
    "    \n",
    "    solution = []\n",
    "    for v in V:\n",
    "        if x[v].x > 0.5:\n",
    "            solution.append(v)\n",
    "\n",
    "    return solution, m.Runtime, m.MIPGap, m.status == gp.GRB.OPTIMAL, "
   ]
  },
  {
   "cell_type": "code",
   "execution_count": 4,
   "metadata": {},
   "outputs": [],
   "source": [
    "def execute_wmdsp(folder, graph, K, time_limit):\n",
    "    V, E, W = create_graph(folder, graph)\n",
    "    solution, runtime, gap, optimal = find_dominating_set(V, E, W, K, time_limit)\n",
    "    result = [solution, gap, round(runtime, 2), optimal]\n",
    "    return result"
   ]
  },
  {
   "cell_type": "code",
   "execution_count": 5,
   "metadata": {},
   "outputs": [],
   "source": [
    "def load_graphs(folder):\n",
    "    graphs = []\n",
    "    for filename in os.listdir('../src/main/resources/graphs/' + folder + '/'):\n",
    "        if filename.endswith('.txt'):\n",
    "            graphs.append(filename)\n",
    "    return graphs"
   ]
  },
  {
   "attachments": {},
   "cell_type": "markdown",
   "metadata": {},
   "source": [
    "# Definición de parámetros y ejecución"
   ]
  },
  {
   "cell_type": "code",
   "execution_count": 6,
   "metadata": {},
   "outputs": [
    {
     "name": "stdout",
     "output_type": "stream",
     "text": [
      "Set parameter Username\n",
      "Academic license - for non-commercial use only - expires 2024-01-04\n",
      "For graph w_dolphins.txt and K = 0.1 the solution is [6, 17, 27, 29, 30, 32, 33, 38, 42, 46, 51, 57, 59, 61] with size 14 and gap 0.0 in 0.0 seconds.\n",
      "For graph w_dolphins.txt and K = 0.25 the solution is [1, 12, 17, 22, 29, 30, 32, 36, 38, 42, 45, 48, 49, 51, 56, 59, 61] with size 17 and gap 0.0 in 0.0 seconds.\n",
      "For graph w_dolphins.txt and K = 0.5 the solution is [2, 6, 8, 12, 13, 18, 19, 22, 27, 29, 31, 36, 38, 42, 48, 49, 51, 53, 60] with size 19 and gap 0.0 in 0.0 seconds.\n",
      "For graph w_dolphins.txt and K = 0.75 the solution is [4, 6, 7, 9, 10, 11, 12, 13, 14, 20, 22, 26, 31, 34, 35, 36, 40, 42, 43, 45, 48, 55, 58, 60, 61] with size 25 and gap 0.0 in 0.0 seconds.\n",
      "For graph w_dolphins.txt and K = 1 the solution is [1, 2, 3, 4, 7, 9, 11, 12, 13, 14, 15, 20, 22, 25, 29, 31, 34, 35, 36, 39, 42, 46, 48, 51, 53, 56, 58, 60, 61] with size 29 and gap 0.01 in 0.0 seconds.\n",
      "For graph w_lesmis.txt and K = 0.1 the solution is [0, 11, 23, 25, 28, 47, 48, 49, 51, 57] with size 10 and gap 0.0 in 0.0 seconds.\n",
      "For graph w_lesmis.txt and K = 0.25 the solution is [0, 9, 10, 11, 17, 23, 25, 32, 37, 45, 46, 48, 49, 50, 51, 57, 73] with size 17 and gap 0.0 in 0.0 seconds.\n",
      "For graph w_lesmis.txt and K = 0.5 the solution is [0, 4, 9, 10, 11, 15, 21, 23, 24, 25, 27, 31, 32, 37, 45, 46, 48, 49, 52, 53, 57, 73] with size 22 and gap 0.0 in 0.0 seconds.\n",
      "For graph w_lesmis.txt and K = 0.75 the solution is [0, 3, 4, 7, 8, 9, 10, 11, 13, 14, 15, 18, 19, 23, 24, 25, 28, 31, 32, 33, 35, 40, 41, 45, 46, 47, 48, 49, 52, 53, 57, 58, 74] with size 33 and gap 0.0 in 0.0 seconds.\n",
      "For graph w_lesmis.txt and K = 1 the solution is [0, 1, 2, 4, 5, 7, 8, 9, 10, 11, 12, 13, 14, 15, 18, 20, 21, 25, 26, 30, 32, 33, 35, 40, 42, 44, 45, 46, 47, 48, 50, 52, 53, 55, 56, 62, 67, 74] with size 38 and gap 0.0 in 0.0 seconds.\n",
      "For graph w_david.txt and K = 0.1 the solution is [59, 82] with size 2 and gap 0.0 in 0.0 seconds.\n",
      "For graph w_david.txt and K = 0.25 the solution is [18, 45, 47, 65, 66, 74, 81, 82] with size 8 and gap 0.0 in 0.0 seconds.\n",
      "For graph w_david.txt and K = 0.5 the solution is [15, 18, 25, 33, 47, 48, 51, 61, 64, 65, 74, 75, 81, 82, 84] with size 15 and gap 0.0 in 0.0 seconds.\n",
      "For graph w_david.txt and K = 0.75 the solution is [11, 12, 24, 25, 33, 34, 38, 39, 41, 47, 48, 50, 57, 59, 61, 63, 64, 65, 66, 70, 74, 81, 82] with size 23 and gap 0.0 in 0.0 seconds.\n",
      "For graph w_david.txt and K = 1 the solution is [1, 3, 4, 5, 9, 12, 23, 24, 25, 26, 37, 38, 39, 41, 45, 47, 48, 50, 51, 57, 61, 63, 64, 65, 74, 75, 81, 82] with size 28 and gap 0.0 in 0.0 seconds.\n",
      "For graph w_anna.txt and K = 0.1 the solution is [17, 29, 35, 44, 68, 71, 73, 94, 121, 132, 134, 137] with size 12 and gap 0.0 in 0.0 seconds.\n",
      "For graph w_anna.txt and K = 0.25 the solution is [1, 17, 26, 35, 42, 55, 63, 68, 71, 73, 76, 86, 94, 95, 106, 108, 132, 134, 137] with size 19 and gap 0.0 in 0.0 seconds.\n",
      "For graph w_anna.txt and K = 0.5 the solution is [0, 1, 17, 22, 26, 29, 35, 41, 42, 44, 47, 49, 55, 63, 69, 71, 73, 83, 84, 85, 86, 87, 94, 97, 106, 112, 115, 126, 132, 134] with size 30 and gap 0.0 in 0.0 seconds.\n",
      "For graph w_anna.txt and K = 0.75 the solution is [0, 1, 7, 14, 17, 22, 26, 29, 30, 31, 34, 35, 37, 38, 41, 42, 47, 55, 59, 62, 63, 70, 71, 73, 79, 83, 84, 85, 86, 87, 91, 94, 95, 96, 97, 99, 102, 103, 105, 106, 110, 112, 118, 124, 126, 132, 134, 136] with size 48 and gap 0.0 in 0.0 seconds.\n",
      "For graph w_anna.txt and K = 1 the solution is [0, 1, 2, 3, 4, 7, 14, 17, 22, 26, 29, 30, 35, 37, 38, 41, 42, 44, 47, 48, 51, 54, 55, 60, 61, 62, 63, 70, 71, 72, 73, 79, 84, 85, 86, 87, 89, 94, 95, 96, 97, 100, 101, 102, 103, 106, 110, 112, 115, 116, 118, 120, 124, 126, 128, 132, 134, 137] with size 58 and gap 0.0 in 0.0 seconds.\n",
      "For graph w_polbooks.txt and K = 0.1 the solution is [3, 4, 12, 35, 40, 57, 58, 72, 84, 95, 99, 100, 104] with size 13 and gap 0.0 in 0.0 seconds.\n",
      "For graph w_polbooks.txt and K = 0.25 the solution is [3, 4, 11, 12, 13, 20, 35, 58, 59, 67, 71, 72, 73, 94] with size 14 and gap 0.01 in 0.0 seconds.\n",
      "For graph w_polbooks.txt and K = 0.5 the solution is [3, 4, 8, 12, 35, 40, 49, 57, 58, 64, 71, 72, 74, 84, 86, 95, 99, 104] with size 18 and gap 0.01 in 0.0 seconds.\n",
      "For graph w_polbooks.txt and K = 0.75 the solution is [3, 4, 6, 8, 10, 12, 34, 40, 47, 48, 51, 56, 58, 62, 66, 71, 72, 73, 74, 86, 101, 102, 104] with size 23 and gap 0.03 in 0.0 seconds.\n",
      "For graph w_polbooks.txt and K = 1 the solution is [2, 3, 4, 6, 8, 10, 12, 34, 40, 47, 48, 51, 53, 56, 58, 61, 62, 66, 69, 71, 72, 73, 74, 84, 86, 102, 103] with size 27 and gap 0.01 in 0.0 seconds.\n",
      "For graph w_adjnoun.txt and K = 0.1 the solution is [1, 2, 9, 11, 14, 17, 20, 29, 32, 42, 47, 51, 63, 70, 79, 89, 92, 107] with size 18 and gap 0.0 in 0.0 seconds.\n",
      "For graph w_adjnoun.txt and K = 0.25 the solution is [1, 2, 5, 6, 9, 11, 17, 20, 25, 29, 33, 37, 42, 43, 51, 64, 68, 73, 79, 92, 100] with size 21 and gap 0.0 in 0.0 seconds.\n",
      "For graph w_adjnoun.txt and K = 0.5 the solution is [2, 5, 6, 8, 9, 11, 17, 20, 23, 25, 29, 33, 37, 43, 51, 54, 56, 64, 68, 71, 73, 80, 90, 91, 92, 100, 109] with size 27 and gap 0.0 in 0.0 seconds.\n",
      "For graph w_adjnoun.txt and K = 0.75 the solution is [2, 5, 8, 11, 16, 17, 23, 31, 33, 50, 51, 55, 56, 58, 59, 62, 64, 69, 73, 74, 75, 76, 79, 85, 89, 90, 91, 94, 95, 96, 97, 100, 104, 109, 111] with size 35 and gap 0.01 in 0.0 seconds.\n",
      "For graph w_adjnoun.txt and K = 1 the solution is [1, 2, 5, 8, 9, 11, 16, 17, 24, 25, 29, 31, 47, 50, 51, 55, 56, 58, 60, 62, 64, 65, 69, 72, 73, 74, 75, 79, 80, 82, 85, 89, 90, 91, 93, 94, 95, 96, 97, 100, 104, 107, 109, 111] with size 44 and gap 0.02 in 0.0 seconds.\n",
      "For graph w_zachary.txt and K = 0.1 the solution is [0, 5, 31, 33] with size 4 and gap 0.0 in 0.0 seconds.\n",
      "For graph w_zachary.txt and K = 0.25 the solution is [0, 5, 23, 24, 33] with size 5 and gap 0.0 in 0.0 seconds.\n",
      "For graph w_zachary.txt and K = 0.5 the solution is [0, 1, 6, 11, 23, 31, 32, 33] with size 8 and gap 0.0 in 0.0 seconds.\n",
      "For graph w_zachary.txt and K = 0.75 the solution is [0, 1, 3, 4, 5, 11, 23, 24, 31, 32, 33] with size 11 and gap 0.0 in 0.0 seconds.\n",
      "For graph w_zachary.txt and K = 1 the solution is [0, 1, 3, 9, 10, 11, 15, 16, 21, 25, 26, 27, 31, 32, 33] with size 15 and gap 0.0 in 0.0 seconds.\n",
      "For graph w_huck.txt and K = 0.1 the solution is [6, 16, 17, 21, 34, 40, 48, 54, 70] with size 9 and gap 0.0 in 0.0 seconds.\n",
      "For graph w_huck.txt and K = 0.25 the solution is [3, 6, 16, 21, 42, 43, 47, 48, 53, 54, 57, 59] with size 12 and gap 0.0 in 0.0 seconds.\n",
      "For graph w_huck.txt and K = 0.5 the solution is [0, 6, 21, 22, 25, 27, 30, 31, 36, 42, 47, 48, 53, 54, 56, 57, 64, 70] with size 18 and gap 0.0 in 0.0 seconds.\n",
      "For graph w_huck.txt and K = 0.75 the solution is [3, 15, 17, 21, 24, 25, 27, 29, 34, 42, 48, 51, 53, 54, 56, 57, 59, 60, 63, 69, 70, 71] with size 22 and gap 0.0 in 0.0 seconds.\n",
      "For graph w_huck.txt and K = 1 the solution is [0, 3, 6, 15, 16, 21, 25, 27, 30, 31, 32, 34, 36, 39, 41, 44, 47, 51, 53, 54, 56, 57, 59, 60, 63, 73] with size 26 and gap 0.0 in 0.0 seconds.\n",
      "For graph w_football.txt and K = 0.1 the solution is [1, 4, 5, 40, 43, 51, 54, 64, 66, 87, 94, 114] with size 12 and gap 0.13 in 0.0 seconds.\n",
      "For graph w_football.txt and K = 0.25 the solution is [0, 11, 12, 29, 32, 37, 61, 64, 76, 78, 83, 86, 97, 102] with size 14 and gap 0.43 in 0.0 seconds.\n",
      "For graph w_football.txt and K = 0.5 the solution is [0, 8, 12, 24, 44, 61, 63, 68, 76, 79, 83, 98, 100, 102, 105, 106] with size 16 and gap 0.86 in 0.0 seconds.\n",
      "For graph w_football.txt and K = 0.75 the solution is [0, 17, 38, 42, 44, 48, 50, 51, 54, 59, 64, 73, 76, 77, 79, 84, 89, 95, 102, 104, 106] with size 21 and gap 13.18 in 0.0 seconds.\n",
      "For graph w_football.txt and K = 1 the solution is [0, 11, 12, 20, 21, 37, 38, 44, 55, 57, 61, 63, 64, 68, 73, 76, 77, 84, 88, 89, 94, 98, 102, 104, 106] with size 25 and gap 265.42 in 0.0 seconds.\n"
     ]
    }
   ],
   "source": [
    "# set the folder with the graphs\n",
    "folder = 'random'\n",
    "\n",
    "# load the graphs\n",
    "graphs = load_graphs(folder)\n",
    "\n",
    "# set the time limit for each graph in seconds (1800 = 30 minutes)\n",
    "time_limit = 1800\n",
    "\n",
    "# set the values of K\n",
    "K = [0.1, 0.25, 0.5, 0.75, 1]\n",
    "\n",
    "with open('../src/main/resources/results/'+ folder + '-gurobi.csv', 'w') as f:\n",
    "    f.write('graph;K;solution;size;gap;runtime(s);optimal?\\n')\n",
    "    for graph in graphs:\n",
    "            for k in K:\n",
    "                result = execute_wmdsp(folder, graph, k, time_limit)\n",
    "                f.write(graph + ';' + str(k) + ';' + str(result[0]) + ';' + str(len(result[0])) + ';' + str(result[1]) + ';' + str(result[2]) + ';' + str(result[3]) + '\\n')\n",
    "                print(\"For graph \" + graph + \" and K = \" + str(k) + \" the solution is \" + str(result[0]) + \" with size \" + str(len(result[0])) + \" and gap \" + str(result[2]) + \" in \" + str(result[1]) + \" seconds.\"),"
   ]
  }
 ],
 "metadata": {
  "kernelspec": {
   "display_name": "base",
   "language": "python",
   "name": "python3"
  },
  "language_info": {
   "codemirror_mode": {
    "name": "ipython",
    "version": 3
   },
   "file_extension": ".py",
   "mimetype": "text/x-python",
   "name": "python",
   "nbconvert_exporter": "python",
   "pygments_lexer": "ipython3",
   "version": "3.8.10"
  },
  "orig_nbformat": 4
 },
 "nbformat": 4,
 "nbformat_minor": 2
}
