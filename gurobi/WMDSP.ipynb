{
 "cells": [
  {
   "attachments": {},
   "cell_type": "markdown",
   "metadata": {},
   "source": [
    "# WMDSP - Exact algorithm for finding the minimum dominating set in weigthed graphs"
   ]
  },
  {
   "attachments": {},
   "cell_type": "markdown",
   "metadata": {},
   "source": [
    "$$\n",
    "\\begin{aligned}\n",
    "& \\underset{x}{\\text{minimize}}\n",
    "& & \\sum_{i=1}^{n} x_i \\ \\\\\n",
    "& \\text{subject to}\n",
    "&& \\sum_{j=1}^{n} weigths_{i,j} \\cdot x_j \\geq k \\cdot (1 - x_i), \\quad i=1,\\ldots,n \\ \\\\\n",
    "& & & x_i \\in \\{0,1\\}, \\quad i=1,\\ldots,n\n",
    "\\end{aligned}\n",
    "% & & \\sum_{j=1}^{n} AdjMatrix_{i,j} \\cdot x_j > 0, \\quad i=1,\\ldots,n \\ \\\\\n",
    "\n",
    "$$"
   ]
  },
  {
   "attachments": {},
   "cell_type": "markdown",
   "metadata": {},
   "source": [
    "Given an undirected graph G = (V, E) with vertex set V and edge set E, where each edge e in E has a weight w(e), the Dominating Set with Weighted Edges problem is to find a subset S of V such that:\n",
    "\n",
    "1. For every vertex v in V, either v is in S or v has a neighbor in S. In other words, every vertex in V is either in S or adjacent to a vertex in S. This property is known as domination.\n",
    "\n",
    "2. The sum of the weights of the edges in E between vertices in V that are not in S and vertices in S is at least k. In other words, the sum of w(e) over all edges e between vertices in V\\S and vertices in S is k. This property takes into account the weights of the edges between V\\ S and S.\n",
    "\n",
    "The goal of the Dominating Set with Weighted Edges problem is to find the smallest subset S of V that satisfies the above properties."
   ]
  },
  {
   "attachments": {},
   "cell_type": "markdown",
   "metadata": {},
   "source": [
    "# Importación de librerias"
   ]
  },
  {
   "cell_type": "code",
   "execution_count": 1,
   "metadata": {},
   "outputs": [],
   "source": [
    "import os\n",
    "import gurobipy as gp"
   ]
  },
  {
   "attachments": {},
   "cell_type": "markdown",
   "metadata": {},
   "source": [
    "# Definición de funciones"
   ]
  },
  {
   "cell_type": "code",
   "execution_count": 2,
   "metadata": {},
   "outputs": [],
   "source": [
    "def create_graph(filename):\n",
    "    with open('../src/resources/graphs/random/' + filename) as f:\n",
    "        lines = f.readlines()\n",
    "    \n",
    "    weights = [[float(x) for x in line.split()] for line in lines]\n",
    "    n = len(weights)\n",
    "\n",
    "    # Construct the edge set and weight dictionary\n",
    "    V = list(range(0, n))\n",
    "    E = {}\n",
    "    W = {}\n",
    "    for i in range(n):\n",
    "        for j in range(i, n):\n",
    "            if weights[i][j] > 0:\n",
    "                E.setdefault(i, []).append(j)\n",
    "                E.setdefault(j, []).append(i)\n",
    "                W[i, j] = weights[i][j]\n",
    "                W[j, i] = weights[i][j]\n",
    "\n",
    "    return V, E, W"
   ]
  },
  {
   "cell_type": "code",
   "execution_count": 3,
   "metadata": {},
   "outputs": [],
   "source": [
    "def find_dominating_set(V, E, W, K, time_limit):\n",
    "    m = gp.Model(\"Weigthed MDSP\")\n",
    "\n",
    "    # Create variables\n",
    "    x = m.addVars(V, vtype=gp.GRB.BINARY, name='x')\n",
    "\n",
    "    # Set objective\n",
    "    m.setObjective(x.sum(), sense=gp.GRB.MINIMIZE)\n",
    "\n",
    "    # Add constraints\n",
    "    for u in V:\n",
    "        m.addConstr(gp.quicksum(x[v]*W[u,v] for v in E[u]) >= K*(1 - x[u]))\n",
    "\n",
    "    # disable gurobi output\n",
    "    m.setParam('OutputFlag', 0)\n",
    "    \n",
    "    # Set time limit\n",
    "    m.setParam('TimeLimit', time_limit)\n",
    "    \n",
    "    # Optimize model\n",
    "    m.optimize()\n",
    "    \n",
    "    solution = []\n",
    "    for v in V:\n",
    "        if x[v].x > 0.5:\n",
    "            solution.append(v)\n",
    "\n",
    "    return len(solution), m.Runtime, m.status == gp.GRB.OPTIMAL"
   ]
  },
  {
   "cell_type": "code",
   "execution_count": 4,
   "metadata": {},
   "outputs": [],
   "source": [
    "def execute_wmdsp(graph, K, time_limit):\n",
    "    V, E, W = create_graph(graph)\n",
    "    size, runtime, optimal = find_dominating_set(V, E, W, K, time_limit)\n",
    "    result = [size, K, round(runtime, 2), optimal]\n",
    "    return result"
   ]
  },
  {
   "attachments": {},
   "cell_type": "markdown",
   "metadata": {},
   "source": [
    "# Definición de parámetros y ejecución"
   ]
  },
  {
   "cell_type": "code",
   "execution_count": null,
   "metadata": {},
   "outputs": [],
   "source": [
    "graphs = []\n",
    "for filename in os.listdir('../src/resources/graphs/random/'):\n",
    "    if filename.endswith('.txt'):\n",
    "        graphs.append(filename)\n",
    "\n",
    "# set the time limit for each graph in seconds (1800 = 30 minutes)\n",
    "time_limit = 1800\n",
    "\n",
    "# set the values of K\n",
    "K = [0.1, 0.25, 0.5, 0.75, 1]\n",
    "\n",
    "with open('../src/resources/results/random-gurobi.csv', 'w') as f:\n",
    "    f.write('graphName,K,size,runtime(s),optimal?\\n')\n",
    "    for graph in graphs:\n",
    "            for k in K:\n",
    "                result = execute_wmdsp(graph, k, time_limit)\n",
    "                f.write(graph + ',' + str(k) + ',' + str(result[0]) + ',' + str(result[2]) + ',' + str(result[3]) + '\\n')"
   ]
  }
 ],
 "metadata": {
  "kernelspec": {
   "display_name": "base",
   "language": "python",
   "name": "python3"
  },
  "language_info": {
   "codemirror_mode": {
    "name": "ipython",
    "version": 3
   },
   "file_extension": ".py",
   "mimetype": "text/x-python",
   "name": "python",
   "nbconvert_exporter": "python",
   "pygments_lexer": "ipython3",
   "version": "3.9.13"
  },
  "orig_nbformat": 4
 },
 "nbformat": 4,
 "nbformat_minor": 2
}
