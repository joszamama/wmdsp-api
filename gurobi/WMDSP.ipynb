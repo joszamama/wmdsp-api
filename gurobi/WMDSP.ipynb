{
 "cells": [
  {
   "attachments": {},
   "cell_type": "markdown",
   "metadata": {},
   "source": [
    "# WMDSP - Exact algorithm for finding the minimum dominating set in weigthed graphs"
   ]
  },
  {
   "attachments": {},
   "cell_type": "markdown",
   "metadata": {},
   "source": [
    "$$\n",
    "\\begin{aligned}\n",
    "& \\underset{x}{\\text{minimize}}\n",
    "& & \\sum_{i=1}^{n} x_i \\ \\\\\n",
    "& \\text{subject to}\n",
    "&& \\sum_{j=1}^{n} weigths_{i,j} \\cdot x_j \\geq k \\cdot (1 - x_i), \\quad i=1,\\ldots,n \\ \\\\\n",
    "& & & x_i \\in \\{0,1\\}, \\quad i=1,\\ldots,n\n",
    "\\end{aligned}\n",
    "% & & \\sum_{j=1}^{n} AdjMatrix_{i,j} \\cdot x_j > 0, \\quad i=1,\\ldots,n \\ \\\\\n",
    "\n",
    "$$"
   ]
  },
  {
   "attachments": {},
   "cell_type": "markdown",
   "metadata": {},
   "source": [
    "Given an undirected graph G = (V, E) with vertex set V and edge set E, where each edge e in E has a weight w(e), the Dominating Set with Weighted Edges problem is to find a subset S of V such that:\n",
    "\n",
    "1. For every vertex v in V, either v is in S or v has a neighbor in S. In other words, every vertex in V is either in S or adjacent to a vertex in S. This property is known as domination.\n",
    "\n",
    "2. The sum of the weights of the edges in E between vertices in V that are not in S and vertices in S is at least k. In other words, the sum of w(e) over all edges e between vertices in V\\S and vertices in S is k. This property takes into account the weights of the edges between V\\ S and S.\n",
    "\n",
    "The goal of the Dominating Set with Weighted Edges problem is to find the smallest subset S of V that satisfies the above properties."
   ]
  },
  {
   "attachments": {},
   "cell_type": "markdown",
   "metadata": {},
   "source": [
    "# Importación de librerias"
   ]
  },
  {
   "cell_type": "code",
   "execution_count": 8,
   "metadata": {},
   "outputs": [],
   "source": [
    "import os\n",
    "import gurobipy as gp"
   ]
  },
  {
   "attachments": {},
   "cell_type": "markdown",
   "metadata": {},
   "source": [
    "# Definición de funciones"
   ]
  },
  {
   "cell_type": "code",
   "execution_count": 9,
   "metadata": {},
   "outputs": [],
   "source": [
    "def create_graph(folder, filename):\n",
    "    with open('../src/main/resources/graphs/'+ folder + '/' + filename) as f:\n",
    "        lines = f.readlines()\n",
    "    \n",
    "    weights = [[float(x) for x in line.split()] for line in lines]\n",
    "    n = len(weights)\n",
    "\n",
    "    # Construct the edge set and weight dictionary\n",
    "    V = list(range(0, n))\n",
    "    E = {}\n",
    "    W = {}\n",
    "    for i in range(n):\n",
    "        for j in range(i, n):\n",
    "            if weights[i][j] > 0:\n",
    "                E.setdefault(i, []).append(j)\n",
    "                E.setdefault(j, []).append(i)\n",
    "                W[i, j] = weights[i][j]\n",
    "                W[j, i] = weights[i][j]\n",
    "\n",
    "    return V, E, W"
   ]
  },
  {
   "cell_type": "code",
   "execution_count": 10,
   "metadata": {},
   "outputs": [],
   "source": [
    "def find_dominating_set(V, E, W, K, time_limit):\n",
    "    m = gp.Model(\"Weigthed MDSP\")\n",
    "\n",
    "    # Create variables\n",
    "    x = m.addVars(V, vtype=gp.GRB.BINARY, name='x')\n",
    "\n",
    "    # Set objective\n",
    "    m.setObjective(x.sum(), sense=gp.GRB.MINIMIZE)\n",
    "\n",
    "    # Add constraints\n",
    "    for u in V:\n",
    "        m.addConstr(gp.quicksum(x[v]*W[u,v] for v in E[u]) >= K*(1 - x[u]))\n",
    "\n",
    "    # disable gurobi output\n",
    "    m.setParam('OutputFlag', 0)\n",
    "    \n",
    "    # Set time limit\n",
    "    m.setParam('TimeLimit', time_limit)\n",
    "    \n",
    "    # Optimize model\n",
    "    m.optimize()\n",
    "    \n",
    "    solution = []\n",
    "    for v in V:\n",
    "        if x[v].x > 0.5:\n",
    "            solution.append(v)\n",
    "\n",
    "    return solution, m.Runtime, m.MIPGap, m.status == gp.GRB.OPTIMAL, "
   ]
  },
  {
   "cell_type": "code",
   "execution_count": 11,
   "metadata": {},
   "outputs": [],
   "source": [
    "def execute_wmdsp(folder, graph, K, time_limit):\n",
    "    V, E, W = create_graph(folder, graph)\n",
    "    solution, runtime, gap, optimal = find_dominating_set(V, E, W, K, time_limit)\n",
    "    result = [solution, gap, round(runtime, 2), optimal]\n",
    "    return result"
   ]
  },
  {
   "cell_type": "code",
   "execution_count": 12,
   "metadata": {},
   "outputs": [],
   "source": [
    "def load_graphs(folder):\n",
    "    graphs = []\n",
    "    for filename in os.listdir('../src/main/resources/graphs/' + folder + '/'):\n",
    "        if filename.endswith('.txt'):\n",
    "            graphs.append(filename)\n",
    "    return graphs"
   ]
  },
  {
   "attachments": {},
   "cell_type": "markdown",
   "metadata": {},
   "source": [
    "# Definición de parámetros y ejecución"
   ]
  },
  {
   "cell_type": "code",
   "execution_count": 13,
   "metadata": {},
   "outputs": [
    {
     "name": "stdout",
     "output_type": "stream",
     "text": [
      "For graph MOD_w_rnd_graph_4000_50_1.txt and K = 0.1 the solution is [3983, 3989, 3990, 3992, 3993, 3994, 3995, 3997, 3998] with size 9 and gap 1.0 in 100.04 seconds.\n",
      "For graph MOD_w_rnd_graph_4000_50_1.txt and K = 0.25 the solution is [3982, 3983, 3985, 3989, 3990, 3992, 3993, 3995, 3996, 3997, 3998] with size 11 and gap 1.0 in 100.04 seconds.\n",
      "For graph MOD_w_rnd_graph_4000_50_1.txt and K = 0.5 the solution is [3981, 3982, 3984, 3986, 3987, 3989, 3990, 3991, 3992, 3993, 3995, 3996, 3997, 3998, 3999] with size 15 and gap 1.0 in 100.04 seconds.\n",
      "For graph MOD_w_rnd_graph_4000_50_1.txt and K = 0.75 the solution is [3976, 3979, 3980, 3982, 3984, 3985, 3986, 3987, 3990, 3991, 3992, 3993, 3994, 3995, 3996, 3998, 3999] with size 17 and gap 1.0 in 100.04 seconds.\n",
      "For graph MOD_w_rnd_graph_4000_50_1.txt and K = 1 the solution is [3975, 3976, 3977, 3979, 3980, 3982, 3984, 3985, 3986, 3989, 3990, 3991, 3992, 3993, 3994, 3995, 3996, 3997, 3998, 3999] with size 20 and gap 1.0 in 100.04 seconds.\n",
      "For graph MOD_w_rnd_graph_500_30_1.txt and K = 0.1 the solution is [147, 213, 214, 216, 224, 268, 345, 490] with size 8 and gap 0.375 in 100.01 seconds.\n",
      "For graph MOD_w_rnd_graph_500_30_1.txt and K = 0.25 the solution is [16, 41, 45, 147, 155, 209, 282, 290, 460, 485, 492] with size 11 and gap 0.5454545454545454 in 100.04 seconds.\n",
      "For graph MOD_w_rnd_graph_500_30_1.txt and K = 0.5 the solution is [94, 122, 163, 209, 213, 220, 231, 243, 251, 306, 461, 477, 489] with size 13 and gap 0.5384615384615384 in 100.01 seconds.\n",
      "For graph MOD_w_rnd_graph_500_30_1.txt and K = 0.75 the solution is [41, 72, 74, 139, 236, 245, 290, 292, 316, 329, 366, 372, 480, 487] with size 14 and gap 0.5714285714285714 in 100.03 seconds.\n",
      "For graph MOD_w_rnd_graph_500_30_1.txt and K = 1 the solution is [14, 72, 120, 273, 286, 290, 300, 329, 366, 378, 418, 430, 455, 460, 488, 492] with size 16 and gap 0.5625 in 100.0 seconds.\n",
      "For graph MOD_w_rnd_graph_4000_20_1.txt and K = 0.1 the solution is [3941, 3965, 3966, 3969, 3972, 3973, 3974, 3977, 3978, 3980, 3981, 3982, 3983, 3987, 3988, 3989, 3990, 3991, 3992, 3993, 3994, 3995, 3996, 3997, 3998, 3999] with size 26 and gap 1.0 in 100.02 seconds.\n",
      "For graph MOD_w_rnd_graph_4000_20_1.txt and K = 0.25 the solution is [3940, 3956, 3961, 3964, 3965, 3967, 3968, 3970, 3972, 3973, 3976, 3977, 3978, 3979, 3980, 3981, 3982, 3983, 3984, 3985, 3986, 3987, 3988, 3989, 3991, 3992, 3993, 3994, 3995, 3996, 3997, 3998, 3999] with size 33 and gap 1.0 in 100.02 seconds.\n",
      "For graph MOD_w_rnd_graph_4000_20_1.txt and K = 0.5 the solution is [3937, 3941, 3955, 3956, 3958, 3962, 3964, 3965, 3966, 3967, 3968, 3969, 3970, 3971, 3972, 3973, 3974, 3977, 3978, 3979, 3980, 3981, 3982, 3983, 3984, 3985, 3986, 3987, 3988, 3989, 3991, 3992, 3993, 3994, 3995, 3996, 3997, 3998, 3999] with size 39 and gap 1.0 in 100.02 seconds.\n",
      "For graph MOD_w_rnd_graph_4000_20_1.txt and K = 0.75 the solution is [3925, 3938, 3947, 3948, 3951, 3952, 3954, 3956, 3957, 3959, 3960, 3961, 3962, 3964, 3965, 3966, 3967, 3968, 3969, 3970, 3971, 3973, 3974, 3976, 3977, 3978, 3979, 3980, 3981, 3982, 3983, 3984, 3985, 3986, 3987, 3988, 3989, 3990, 3991, 3992, 3993, 3994, 3995, 3996, 3998, 3999] with size 46 and gap 1.0 in 100.02 seconds.\n",
      "For graph MOD_w_rnd_graph_4000_20_1.txt and K = 1 the solution is [3925, 3938, 3941, 3945, 3947, 3948, 3949, 3952, 3953, 3955, 3956, 3957, 3959, 3960, 3961, 3965, 3967, 3969, 3970, 3971, 3972, 3973, 3974, 3975, 3976, 3977, 3979, 3980, 3981, 3982, 3983, 3984, 3985, 3986, 3987, 3988, 3989, 3990, 3991, 3992, 3993, 3994, 3996, 3997, 3999] with size 45 and gap 1.0 in 100.05 seconds.\n",
      "For graph MOD_w_rnd_graph_3000_50_1.txt and K = 0.1 the solution is [2988, 2990, 2992, 2993, 2995, 2996, 2997, 2998, 2999] with size 9 and gap 1.0 in 100.03 seconds.\n",
      "For graph MOD_w_rnd_graph_3000_50_1.txt and K = 0.25 the solution is [2981, 2986, 2988, 2989, 2990, 2991, 2992, 2994, 2995, 2996, 2997, 2998, 2999] with size 13 and gap 1.0 in 100.03 seconds.\n",
      "For graph MOD_w_rnd_graph_3000_50_1.txt and K = 0.5 the solution is [2981, 2983, 2985, 2986, 2987, 2988, 2989, 2992, 2993, 2994, 2995, 2996, 2997, 2998, 2999] with size 15 and gap 1.0 in 100.04 seconds.\n",
      "For graph MOD_w_rnd_graph_3000_50_1.txt and K = 0.75 the solution is [2981, 2982, 2983, 2984, 2985, 2986, 2988, 2989, 2990, 2992, 2993, 2994, 2996, 2997, 2998, 2999] with size 16 and gap 1.0 in 100.03 seconds.\n",
      "For graph MOD_w_rnd_graph_3000_50_1.txt and K = 1 the solution is [2979, 2981, 2982, 2983, 2984, 2985, 2986, 2988, 2989, 2990, 2991, 2993, 2994, 2996, 2997, 2998, 2999] with size 17 and gap 1.0 in 100.02 seconds.\n",
      "For graph MOD_w_rnd_graph_1000_50_1.txt and K = 0.1 the solution is [179, 244, 294, 362, 510, 761] with size 6 and gap 0.5 in 100.01 seconds.\n",
      "For graph MOD_w_rnd_graph_1000_50_1.txt and K = 0.25 the solution is [85, 118, 145, 308, 314, 482, 770, 944] with size 8 and gap 0.625 in 100.02 seconds.\n",
      "For graph MOD_w_rnd_graph_1000_50_1.txt and K = 0.5 the solution is [105, 200, 211, 257, 520, 623, 675, 689, 760, 879] with size 10 and gap 0.7 in 100.01 seconds.\n",
      "For graph MOD_w_rnd_graph_1000_50_1.txt and K = 0.75 the solution is [39, 310, 360, 512, 529, 549, 563, 567, 612, 698, 841] with size 11 and gap 0.6363636363636364 in 100.01 seconds.\n",
      "For graph MOD_w_rnd_graph_1000_50_1.txt and K = 1 the solution is [109, 325, 369, 374, 384, 419, 501, 517, 518, 630, 689, 944] with size 12 and gap 0.6666666666666666 in 100.01 seconds.\n",
      "For graph MOD_w_rnd_graph_2000_20_1.txt and K = 0.1 the solution is [29, 134, 155, 686, 705, 943, 1041, 1054, 1087, 1166, 1401, 1562, 1676, 1691, 1706, 1731, 1827, 1934, 1962] with size 19 and gap 0.6842105263157895 in 100.04 seconds.\n",
      "For graph MOD_w_rnd_graph_2000_20_1.txt and K = 0.25 the solution is [13, 64, 322, 473, 548, 559, 567, 573, 598, 667, 675, 1114, 1151, 1231, 1309, 1372, 1382, 1469, 1507, 1580, 1686, 1774, 1782] with size 23 and gap 0.6956521739130435 in 100.23 seconds.\n",
      "For graph MOD_w_rnd_graph_2000_20_1.txt and K = 0.5 the solution is [86, 122, 184, 269, 276, 332, 454, 468, 567, 598, 698, 794, 931, 1118, 1145, 1252, 1282, 1285, 1350, 1372, 1385, 1478, 1550, 1577, 1621, 1757, 1955] with size 27 and gap 0.7037037037037037 in 100.02 seconds.\n",
      "For graph MOD_w_rnd_graph_2000_20_1.txt and K = 0.75 the solution is [61, 274, 322, 335, 402, 405, 558, 598, 628, 675, 681, 935, 988, 995, 1159, 1342, 1358, 1464, 1505, 1552, 1556, 1566, 1640, 1681, 1717, 1750, 1757, 1770, 1810, 1813] with size 30 and gap 0.7333333333333333 in 100.15 seconds.\n",
      "For graph MOD_w_rnd_graph_2000_20_1.txt and K = 1 the solution is [4, 76, 86, 112, 138, 170, 212, 259, 410, 420, 523, 536, 548, 567, 598, 631, 648, 681, 835, 923, 950, 970, 1019, 1268, 1478, 1523, 1556, 1621, 1809, 1878, 1975] with size 31 and gap 0.6774193548387096 in 100.21 seconds.\n",
      "For graph MOD_w_rnd_graph_2000_30_1.txt and K = 0.1 the solution is [117, 272, 282, 401, 424, 558, 802, 955, 957, 971, 1054, 1490, 1896] with size 13 and gap 0.6923076923076923 in 100.02 seconds.\n",
      "For graph MOD_w_rnd_graph_2000_30_1.txt and K = 0.25 the solution is [129, 178, 709, 802, 849, 1054, 1175, 1288, 1341, 1467, 1490, 1503, 1573, 1729, 1863, 1919] with size 16 and gap 0.6875 in 100.14 seconds.\n",
      "For graph MOD_w_rnd_graph_2000_30_1.txt and K = 0.5 the solution is [92, 368, 385, 694, 835, 940, 1055, 1075, 1174, 1405, 1672, 1718, 1752, 1770, 1771, 1785, 1816, 1859, 1978] with size 19 and gap 0.7368421052631579 in 100.01 seconds.\n",
      "For graph MOD_w_rnd_graph_2000_30_1.txt and K = 0.75 the solution is [92, 136, 139, 357, 474, 546, 661, 676, 764, 874, 966, 999, 1071, 1146, 1359, 1516, 1535, 1670, 1837, 1857, 1981, 1989] with size 22 and gap 0.7272727272727273 in 100.03 seconds.\n",
      "For graph MOD_w_rnd_graph_2000_30_1.txt and K = 1 the solution is [30, 45, 87, 117, 369, 378, 582, 598, 619, 705, 709, 777, 785, 867, 911, 920, 1046, 1092, 1102, 1261, 1680, 1828, 1949] with size 23 and gap 0.6956521739130435 in 100.11 seconds.\n",
      "For graph MOD_w_rnd_graph_500_40_1.txt and K = 0.1 the solution is [87, 127, 195, 385, 402, 447] with size 6 and gap 0.5 in 100.01 seconds.\n",
      "For graph MOD_w_rnd_graph_500_40_1.txt and K = 0.25 the solution is [44, 148, 177, 195, 212, 370, 371, 414] with size 8 and gap 0.5 in 100.04 seconds.\n",
      "For graph MOD_w_rnd_graph_500_40_1.txt and K = 0.5 the solution is [15, 101, 195, 204, 209, 245, 307, 371, 455] with size 9 and gap 0.5555555555555556 in 100.0 seconds.\n",
      "For graph MOD_w_rnd_graph_500_40_1.txt and K = 0.75 the solution is [101, 103, 172, 179, 195, 209, 245, 277, 291, 325, 452, 468] with size 12 and gap 0.5833333333333334 in 100.01 seconds.\n",
      "For graph MOD_w_rnd_graph_500_40_1.txt and K = 1 the solution is [34, 307, 308, 325, 331, 334, 420, 458, 468, 473, 476, 496] with size 12 and gap 0.5833333333333334 in 100.0 seconds.\n",
      "For graph MOD_w_rnd_graph_4000_40_1.txt and K = 0.1 the solution is [3982, 3984, 3986, 3989, 3990, 3991, 3992, 3993, 3994, 3996, 3997, 3998, 3999] with size 13 and gap 1.0 in 100.04 seconds.\n",
      "For graph MOD_w_rnd_graph_4000_40_1.txt and K = 0.25 the solution is [3982, 3983, 3984, 3985, 3987, 3989, 3990, 3991, 3992, 3993, 3994, 3995, 3996, 3997, 3998, 3999] with size 16 and gap 1.0 in 100.03 seconds.\n",
      "For graph MOD_w_rnd_graph_4000_40_1.txt and K = 0.5 the solution is [3979, 3981, 3982, 3983, 3984, 3985, 3987, 3988, 3989, 3990, 3991, 3992, 3994, 3995, 3996, 3997, 3998, 3999] with size 18 and gap 1.0 in 100.03 seconds.\n",
      "For graph MOD_w_rnd_graph_4000_40_1.txt and K = 0.75 the solution is [3966, 3969, 3977, 3979, 3980, 3981, 3982, 3983, 3985, 3986, 3987, 3988, 3989, 3990, 3991, 3993, 3994, 3995, 3996, 3997, 3998, 3999] with size 22 and gap 1.0 in 100.04 seconds.\n",
      "For graph MOD_w_rnd_graph_4000_40_1.txt and K = 1 the solution is [3963, 3966, 3969, 3973, 3975, 3977, 3979, 3981, 3982, 3985, 3986, 3987, 3988, 3989, 3990, 3991, 3993, 3994, 3995, 3996, 3997, 3998, 3999] with size 23 and gap 1.0 in 100.03 seconds.\n",
      "For graph MOD_w_rnd_graph_1000_40_1.txt and K = 0.1 the solution is [15, 271, 305, 418, 680, 741, 874, 968] with size 8 and gap 0.625 in 100.02 seconds.\n",
      "For graph MOD_w_rnd_graph_1000_40_1.txt and K = 0.25 the solution is [206, 213, 325, 386, 774, 778, 811, 836, 960, 995] with size 10 and gap 0.6 in 100.01 seconds.\n",
      "For graph MOD_w_rnd_graph_1000_40_1.txt and K = 0.5 the solution is [224, 238, 437, 467, 548, 600, 642, 658, 821, 898, 906, 977] with size 12 and gap 0.6666666666666666 in 100.03 seconds.\n",
      "For graph MOD_w_rnd_graph_1000_40_1.txt and K = 0.75 the solution is [84, 134, 152, 210, 242, 304, 372, 409, 512, 600, 636, 716, 840, 854] with size 14 and gap 0.7142857142857143 in 100.02 seconds.\n",
      "For graph MOD_w_rnd_graph_1000_40_1.txt and K = 1 the solution is [207, 221, 278, 304, 467, 469, 483, 496, 551, 600, 625, 683, 792, 797, 896] with size 15 and gap 0.6666666666666666 in 100.02 seconds.\n",
      "For graph MOD_w_rnd_graph_1000_20_1.txt and K = 0.1 the solution is [104, 115, 234, 331, 377, 472, 480, 510, 567, 611, 619, 743, 799, 812, 941] with size 15 and gap 0.6 in 100.01 seconds.\n",
      "For graph MOD_w_rnd_graph_1000_20_1.txt and K = 0.25 the solution is [3, 44, 54, 99, 110, 149, 221, 223, 331, 453, 484, 760, 826, 877, 883, 886, 895, 912, 985] with size 19 and gap 0.631578947368421 in 100.01 seconds.\n",
      "For graph MOD_w_rnd_graph_1000_20_1.txt and K = 0.5 the solution is [14, 23, 54, 149, 234, 355, 377, 406, 428, 460, 472, 489, 517, 551, 561, 635, 671, 759, 826, 837, 927, 974] with size 22 and gap 0.6363636363636364 in 100.01 seconds.\n",
      "For graph MOD_w_rnd_graph_1000_20_1.txt and K = 0.75 the solution is [15, 23, 122, 124, 275, 323, 331, 355, 356, 370, 421, 503, 543, 613, 617, 629, 631, 766, 819, 869, 915, 936, 941, 943, 952] with size 25 and gap 0.64 in 100.02 seconds.\n",
      "For graph MOD_w_rnd_graph_1000_20_1.txt and K = 1 the solution is [15, 58, 128, 173, 198, 222, 276, 278, 306, 335, 350, 352, 390, 472, 487, 489, 494, 521, 649, 729, 835, 839, 850, 884, 927, 936, 952] with size 27 and gap 0.6296296296296297 in 100.02 seconds.\n",
      "For graph MOD_w_rnd_graph_500_20_1.txt and K = 0.1 the solution is [16, 162, 175, 195, 198, 232, 342, 405, 406, 432, 468, 489] with size 12 and gap 0.4166666666666667 in 100.01 seconds.\n",
      "For graph MOD_w_rnd_graph_500_20_1.txt and K = 0.25 the solution is [23, 73, 102, 137, 175, 203, 278, 285, 314, 365, 405, 406, 432, 468, 487, 489] with size 16 and gap 0.5625 in 100.01 seconds.\n",
      "For graph MOD_w_rnd_graph_500_20_1.txt and K = 0.5 the solution is [1, 13, 17, 35, 83, 155, 180, 184, 209, 278, 279, 285, 357, 361, 378, 405, 473, 491] with size 18 and gap 0.5555555555555556 in 100.0 seconds.\n",
      "For graph MOD_w_rnd_graph_500_20_1.txt and K = 0.75 the solution is [1, 17, 35, 56, 83, 91, 110, 156, 180, 221, 228, 306, 314, 338, 347, 348, 382, 391, 450, 491] with size 20 and gap 0.55 in 100.0 seconds.\n",
      "For graph MOD_w_rnd_graph_500_20_1.txt and K = 1 the solution is [1, 13, 17, 35, 46, 148, 195, 203, 314, 315, 338, 347, 349, 357, 390, 394, 410, 411, 423, 425, 450, 473] with size 22 and gap 0.5 in 100.01 seconds.\n",
      "For graph MOD_w_rnd_graph_2000_50_1.txt and K = 0.1 the solution is [203, 1071, 1398, 1470, 1495, 1755, 1794, 1827] with size 8 and gap 0.75 in 100.05 seconds.\n",
      "For graph MOD_w_rnd_graph_2000_50_1.txt and K = 0.25 the solution is [260, 283, 413, 1037, 1103, 1126, 1200, 1273, 1512, 1694] with size 10 and gap 0.7 in 100.01 seconds.\n",
      "For graph MOD_w_rnd_graph_2000_50_1.txt and K = 0.5 the solution is [399, 412, 500, 876, 989, 1111, 1153, 1318, 1526, 1556, 1843] with size 11 and gap 0.7272727272727273 in 100.02 seconds.\n",
      "For graph MOD_w_rnd_graph_2000_50_1.txt and K = 0.75 the solution is [53, 59, 438, 673, 840, 979, 1049, 1097, 1133, 1270, 1296, 1298, 1395] with size 13 and gap 0.6923076923076923 in 100.01 seconds.\n",
      "For graph MOD_w_rnd_graph_2000_50_1.txt and K = 1 the solution is [429, 561, 845, 888, 1012, 1088, 1207, 1210, 1394, 1545, 1579, 1647, 1921, 1995] with size 14 and gap 0.7142857142857143 in 100.01 seconds.\n",
      "For graph MOD_w_rnd_graph_3000_30_1.txt and K = 0.1 the solution is [2975, 2979, 2981, 2982, 2983, 2985, 2986, 2987, 2989, 2991, 2992, 2993, 2994, 2995, 2996, 2997, 2998, 2999] with size 18 and gap 1.0 in 100.02 seconds.\n",
      "For graph MOD_w_rnd_graph_3000_30_1.txt and K = 0.25 the solution is [2967, 2968, 2975, 2978, 2979, 2980, 2982, 2984, 2985, 2986, 2987, 2989, 2990, 2991, 2992, 2993, 2994, 2995, 2996, 2997, 2998, 2999] with size 22 and gap 1.0 in 100.02 seconds.\n",
      "For graph MOD_w_rnd_graph_3000_30_1.txt and K = 0.5 the solution is [2959, 2960, 2967, 2969, 2975, 2976, 2977, 2979, 2981, 2983, 2984, 2986, 2987, 2988, 2989, 2990, 2991, 2992, 2993, 2994, 2995, 2996, 2997, 2998, 2999] with size 25 and gap 1.0 in 100.02 seconds.\n",
      "For graph MOD_w_rnd_graph_3000_30_1.txt and K = 0.75 the solution is [2953, 2967, 2968, 2971, 2973, 2974, 2975, 2976, 2977, 2979, 2980, 2981, 2982, 2983, 2984, 2985, 2986, 2987, 2988, 2989, 2990, 2991, 2992, 2995, 2996, 2997, 2998, 2999] with size 28 and gap 1.0 in 100.02 seconds.\n",
      "For graph MOD_w_rnd_graph_3000_30_1.txt and K = 1 the solution is [2953, 2958, 2959, 2968, 2971, 2973, 2974, 2975, 2976, 2977, 2979, 2981, 2982, 2983, 2984, 2985, 2986, 2987, 2988, 2989, 2990, 2991, 2992, 2993, 2995, 2997, 2998, 2999] with size 28 and gap 1.0 in 100.02 seconds.\n",
      "For graph MOD_w_rnd_graph_2000_40_1.txt and K = 0.1 the solution is [128, 295, 408, 789, 1013, 1221, 1471, 1522, 1948] with size 9 and gap 0.6666666666666666 in 100.01 seconds.\n",
      "For graph MOD_w_rnd_graph_2000_40_1.txt and K = 0.25 the solution is [70, 229, 404, 504, 646, 731, 774, 1243, 1335, 1408, 1755, 1951] with size 12 and gap 0.6666666666666666 in 100.01 seconds.\n",
      "For graph MOD_w_rnd_graph_2000_40_1.txt and K = 0.5 the solution is [23, 114, 153, 319, 354, 432, 482, 546, 1048, 1473, 1511, 1649, 1725, 1974] with size 14 and gap 0.7142857142857143 in 100.02 seconds.\n",
      "For graph MOD_w_rnd_graph_2000_40_1.txt and K = 0.75 the solution is [227, 362, 393, 555, 795, 1048, 1283, 1302, 1448, 1468, 1529, 1627, 1649, 1760, 1811, 1974] with size 16 and gap 0.75 in 100.01 seconds.\n",
      "For graph MOD_w_rnd_graph_2000_40_1.txt and K = 1 the solution is [4, 61, 139, 185, 237, 315, 414, 617, 949, 1009, 1052, 1377, 1416, 1575, 1598, 1622, 1662, 1837] with size 18 and gap 0.7222222222222222 in 100.01 seconds.\n",
      "For graph MOD_w_rnd_graph_3000_40_1.txt and K = 0.1 the solution is [2983, 2984, 2986, 2988, 2989, 2990, 2991, 2993, 2994, 2995, 2997, 2998, 2999] with size 13 and gap 1.0 in 100.02 seconds.\n",
      "For graph MOD_w_rnd_graph_3000_40_1.txt and K = 0.25 the solution is [2975, 2980, 2983, 2984, 2985, 2988, 2990, 2991, 2992, 2993, 2994, 2995, 2996, 2997, 2998, 2999] with size 16 and gap 1.0 in 100.02 seconds.\n",
      "For graph MOD_w_rnd_graph_3000_40_1.txt and K = 0.5 the solution is [2975, 2978, 2979, 2980, 2984, 2985, 2987, 2988, 2990, 2991, 2992, 2993, 2995, 2996, 2997, 2998, 2999] with size 17 and gap 1.0 in 100.02 seconds.\n",
      "For graph MOD_w_rnd_graph_3000_40_1.txt and K = 0.75 the solution is [2975, 2977, 2978, 2979, 2980, 2983, 2984, 2985, 2987, 2988, 2989, 2990, 2991, 2992, 2993, 2994, 2995, 2996, 2997, 2998, 2999] with size 21 and gap 1.0 in 100.02 seconds.\n",
      "For graph MOD_w_rnd_graph_3000_40_1.txt and K = 1 the solution is [2974, 2975, 2977, 2978, 2979, 2981, 2983, 2984, 2985, 2986, 2987, 2988, 2989, 2990, 2991, 2992, 2993, 2994, 2995, 2996, 2997, 2998, 2999] with size 23 and gap 1.0 in 100.02 seconds.\n",
      "For graph MOD_w_rnd_graph_1000_30_1.txt and K = 0.1 the solution is [12, 269, 297, 351, 525, 626, 759, 881, 904, 957] with size 10 and gap 0.6 in 100.02 seconds.\n",
      "For graph MOD_w_rnd_graph_1000_30_1.txt and K = 0.25 the solution is [2, 131, 242, 456, 508, 534, 645, 675, 710, 777, 811, 912, 921] with size 13 and gap 0.6153846153846154 in 100.01 seconds.\n",
      "For graph MOD_w_rnd_graph_1000_30_1.txt and K = 0.5 the solution is [3, 26, 36, 134, 159, 184, 208, 401, 458, 469, 558, 579, 746, 840, 912, 959] with size 16 and gap 0.6875 in 100.01 seconds.\n",
      "For graph MOD_w_rnd_graph_1000_30_1.txt and K = 0.75 the solution is [103, 125, 189, 415, 513, 563, 578, 643, 645, 651, 660, 686, 761, 777, 791, 806, 908] with size 17 and gap 0.6470588235294118 in 100.02 seconds.\n",
      "For graph MOD_w_rnd_graph_1000_30_1.txt and K = 1 the solution is [34, 171, 219, 270, 367, 477, 479, 508, 550, 596, 623, 636, 678, 777, 795, 867, 871, 913, 980, 984] with size 20 and gap 0.65 in 100.01 seconds.\n",
      "For graph MOD_w_rnd_graph_3000_20_1.txt and K = 0.1 the solution is [2961, 2962, 2970, 2972, 2973, 2975, 2976, 2977, 2979, 2981, 2982, 2983, 2984, 2985, 2986, 2987, 2988, 2989, 2990, 2991, 2992, 2993, 2995, 2996, 2997, 2998] with size 26 and gap 1.0 in 100.01 seconds.\n",
      "For graph MOD_w_rnd_graph_3000_20_1.txt and K = 0.25 the solution is [2949, 2961, 2962, 2965, 2967, 2968, 2971, 2972, 2973, 2974, 2976, 2977, 2978, 2979, 2981, 2983, 2984, 2985, 2986, 2987, 2988, 2989, 2990, 2991, 2992, 2993, 2994, 2995, 2997, 2998, 2999] with size 31 and gap 1.0 in 100.01 seconds.\n",
      "For graph MOD_w_rnd_graph_3000_20_1.txt and K = 0.5 the solution is [2949, 2950, 2954, 2957, 2960, 2961, 2962, 2963, 2965, 2967, 2968, 2969, 2971, 2972, 2973, 2974, 2975, 2976, 2977, 2978, 2979, 2981, 2982, 2983, 2984, 2985, 2986, 2987, 2988, 2989, 2991, 2992, 2993, 2994, 2995, 2996, 2997, 2998, 2999] with size 39 and gap 1.0 in 100.01 seconds.\n",
      "For graph MOD_w_rnd_graph_3000_20_1.txt and K = 0.75 the solution is [2941, 2942, 2949, 2951, 2956, 2957, 2960, 2961, 2962, 2963, 2965, 2966, 2967, 2969, 2970, 2971, 2972, 2973, 2974, 2975, 2976, 2977, 2978, 2979, 2981, 2982, 2983, 2984, 2985, 2986, 2987, 2988, 2989, 2990, 2992, 2993, 2994, 2995, 2997, 2998, 2999] with size 41 and gap 1.0 in 100.01 seconds.\n",
      "For graph MOD_w_rnd_graph_3000_20_1.txt and K = 1 the solution is [2932, 2934, 2941, 2949, 2951, 2952, 2953, 2956, 2957, 2959, 2960, 2961, 2962, 2963, 2965, 2966, 2967, 2970, 2971, 2972, 2973, 2974, 2976, 2977, 2978, 2979, 2980, 2981, 2982, 2983, 2984, 2985, 2986, 2987, 2988, 2989, 2991, 2992, 2993, 2994, 2995, 2996, 2997, 2998] with size 44 and gap 1.0 in 100.01 seconds.\n",
      "For graph MOD_w_rnd_graph_4000_30_1.txt and K = 0.1 the solution is [3977, 3978, 3982, 3983, 3984, 3985, 3986, 3987, 3988, 3990, 3991, 3992, 3993, 3994, 3995, 3997, 3998, 3999] with size 18 and gap 1.0 in 100.03 seconds.\n",
      "For graph MOD_w_rnd_graph_4000_30_1.txt and K = 0.25 the solution is [3970, 3972, 3974, 3977, 3978, 3981, 3982, 3983, 3984, 3985, 3986, 3987, 3989, 3990, 3991, 3992, 3993, 3994, 3995, 3996, 3997, 3998] with size 22 and gap 1.0 in 100.03 seconds.\n",
      "For graph MOD_w_rnd_graph_4000_30_1.txt and K = 0.5 the solution is [3960, 3970, 3971, 3974, 3977, 3978, 3980, 3981, 3982, 3983, 3984, 3985, 3986, 3987, 3988, 3989, 3990, 3991, 3992, 3993, 3994, 3995, 3996, 3997, 3998] with size 25 and gap 1.0 in 100.03 seconds.\n",
      "For graph MOD_w_rnd_graph_4000_30_1.txt and K = 0.75 the solution is [3960, 3963, 3966, 3968, 3969, 3970, 3971, 3973, 3974, 3978, 3979, 3980, 3981, 3982, 3984, 3985, 3986, 3987, 3988, 3989, 3990, 3991, 3992, 3993, 3995, 3996, 3997, 3998] with size 28 and gap 1.0 in 100.03 seconds.\n",
      "For graph MOD_w_rnd_graph_4000_30_1.txt and K = 1 the solution is [3951, 3960, 3961, 3963, 3966, 3967, 3969, 3970, 3972, 3973, 3974, 3975, 3977, 3978, 3980, 3981, 3983, 3984, 3985, 3986, 3987, 3989, 3990, 3991, 3992, 3994, 3995, 3996, 3997, 3998, 3999] with size 31 and gap 1.0 in 100.02 seconds.\n",
      "For graph MOD_w_rnd_graph_500_50_1.txt and K = 0.1 the solution is [19, 31, 42, 106, 191] with size 5 and gap 0.4 in 100.01 seconds.\n",
      "For graph MOD_w_rnd_graph_500_50_1.txt and K = 0.25 the solution is [24, 42, 196, 233, 269, 399, 455] with size 7 and gap 0.5714285714285714 in 100.05 seconds.\n",
      "For graph MOD_w_rnd_graph_500_50_1.txt and K = 0.5 the solution is [62, 64, 118, 191, 196, 303, 317, 326] with size 8 and gap 0.5 in 100.01 seconds.\n",
      "For graph MOD_w_rnd_graph_500_50_1.txt and K = 0.75 the solution is [98, 104, 128, 151, 230, 264, 295, 360, 417, 439] with size 10 and gap 0.6 in 100.01 seconds.\n",
      "For graph MOD_w_rnd_graph_500_50_1.txt and K = 1 the solution is [0, 12, 20, 109, 167, 183, 239, 292, 348, 372] with size 10 and gap 0.6 in 100.0 seconds.\n"
     ]
    }
   ],
   "source": [
    "# set the folder with the graphs\n",
    "folder = 'random'\n",
    "\n",
    "# load the graphs \n",
    "graphs = load_graphs(folder)\n",
    "\n",
    "# set the time limit for each graph in seconds (1800 = 30 minutes)\n",
    "time_limit = 100\n",
    "\n",
    "# set the values of K\n",
    "K = [0.1, 0.25, 0.5, 0.75, 1]\n",
    "\n",
    "with open('../src/main/resources/results/'+ folder + '-gurobi.csv', 'w') as f:\n",
    "    f.write('graph;K;solution;size;gap;runtime(s);optimal?\\n')\n",
    "    for graph in graphs:\n",
    "            for k in K:\n",
    "                result = execute_wmdsp(folder, graph, k, time_limit)\n",
    "                f.write(graph + ';' + str(k) + ';' + str(result[0]) + ';' + str(len(result[0])) + ';' + str(result[1]) + ';' + str(result[2]) + ';' + str(result[3]) + '\\n')\n",
    "                print(\"For graph \" + graph + \" and K = \" + str(k) + \" the solution is \" + str(result[0]) + \" with size \" + str(len(result[0])) + \" and gap \" + str(result[1]) + \" in \" + str(result[2]) + \" seconds.\"),"
   ]
  }
 ],
 "metadata": {
  "kernelspec": {
   "display_name": "base",
   "language": "python",
   "name": "python3"
  },
  "language_info": {
   "codemirror_mode": {
    "name": "ipython",
    "version": 3
   },
   "file_extension": ".py",
   "mimetype": "text/x-python",
   "name": "python",
   "nbconvert_exporter": "python",
   "pygments_lexer": "ipython3",
   "version": "3.8.10"
  },
  "orig_nbformat": 4
 },
 "nbformat": 4,
 "nbformat_minor": 2
}
